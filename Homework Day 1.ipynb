{
 "cells": [
  {
   "cell_type": "code",
   "execution_count": 57,
   "id": "b2aadd43",
   "metadata": {},
   "outputs": [
    {
     "name": "stdout",
     "output_type": "stream",
     "text": [
      "2' type  <class 'int'>\n",
      "6' type  <class 'int'>\n",
      "10' type  <class 'int'>\n",
      "14' type  <class 'int'>\n",
      "18' type  <class 'int'>\n",
      "0' type  <class 'int'>\n",
      "4' type  <class 'int'>\n",
      "8' type  <class 'int'>\n",
      "12' type  <class 'int'>\n",
      "16' type  <class 'int'>\n"
     ]
    }
   ],
   "source": [
    "\n",
    "first_list, second_list=[],[]\n",
    "\n",
    "for i in range(10):\n",
    "    if i%2 != 0 :\n",
    "        \n",
    "        first_list.append(i)\n",
    "    else:\n",
    "       \n",
    "        second_list.append(i)\n",
    "\n",
    "merged_list=first_list+ second_list\n",
    "\n",
    "merged_list = [element * 2 for element in merged_list]\n",
    "\n",
    "for element in merged_list:\n",
    "    print(\"{}' type  {}\".format(element,type(element)))"
   ]
  },
  {
   "cell_type": "code",
   "execution_count": null,
   "id": "f550d69f",
   "metadata": {},
   "outputs": [],
   "source": []
  }
 ],
 "metadata": {
  "kernelspec": {
   "display_name": "Python 3",
   "language": "python",
   "name": "python3"
  },
  "language_info": {
   "codemirror_mode": {
    "name": "ipython",
    "version": 3
   },
   "file_extension": ".py",
   "mimetype": "text/x-python",
   "name": "python",
   "nbconvert_exporter": "python",
   "pygments_lexer": "ipython3",
   "version": "3.8.8"
  }
 },
 "nbformat": 4,
 "nbformat_minor": 5
}
